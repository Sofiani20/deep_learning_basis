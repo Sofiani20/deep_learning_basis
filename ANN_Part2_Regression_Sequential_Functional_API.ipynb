{
 "cells": [
  {
   "cell_type": "code",
   "execution_count": 1,
   "metadata": {},
   "outputs": [],
   "source": [
    "import numpy as np\n",
    "import pandas as pd\n",
    "%matplotlib inline\n",
    "import matplotlib as mpl\n",
    "import matplotlib.pyplot as plt"
   ]
  },
  {
   "cell_type": "code",
   "execution_count": 2,
   "metadata": {},
   "outputs": [],
   "source": [
    "import tensorflow as tf\n",
    "from tensorflow import keras"
   ]
  },
  {
   "cell_type": "code",
   "execution_count": 3,
   "metadata": {},
   "outputs": [],
   "source": [
    "from sklearn.datasets import fetch_california_housing\n",
    "housing=fetch_california_housing()"
   ]
  },
  {
   "cell_type": "markdown",
   "metadata": {},
   "source": [
    "# Daset Charateristics:\n",
    "\n",
    "### Number of instances:\n",
    "**20640**\n",
    "### Number of attributes:\n",
    "**8 numeric predictives attributes and the target**\n",
    "### Goal:\n",
    "predict house price with the 8 variables\n",
    "### Attribute informations:\n",
    "* MedInc: median income in block\n",
    "* HouseAge: median house age in block\n",
    "* AveRooms: average number of rooms\n",
    "* AveBedrms: average number of bedrooms\n",
    "* Population: block population\n",
    "* AveOccup: average house occupancy\n",
    "* Latitude: house block latitude\n",
    "* Longitude house block longitude\n",
    "\n",
    "### Target:\n",
    "median house value in units of 100000 for california district"
   ]
  },
  {
   "cell_type": "code",
   "execution_count": 4,
   "metadata": {},
   "outputs": [
    {
     "data": {
      "text/plain": [
       "{'data': array([[   8.3252    ,   41.        ,    6.98412698, ...,    2.55555556,\n",
       "           37.88      , -122.23      ],\n",
       "        [   8.3014    ,   21.        ,    6.23813708, ...,    2.10984183,\n",
       "           37.86      , -122.22      ],\n",
       "        [   7.2574    ,   52.        ,    8.28813559, ...,    2.80225989,\n",
       "           37.85      , -122.24      ],\n",
       "        ...,\n",
       "        [   1.7       ,   17.        ,    5.20554273, ...,    2.3256351 ,\n",
       "           39.43      , -121.22      ],\n",
       "        [   1.8672    ,   18.        ,    5.32951289, ...,    2.12320917,\n",
       "           39.43      , -121.32      ],\n",
       "        [   2.3886    ,   16.        ,    5.25471698, ...,    2.61698113,\n",
       "           39.37      , -121.24      ]]),\n",
       " 'target': array([4.526, 3.585, 3.521, ..., 0.923, 0.847, 0.894]),\n",
       " 'frame': None,\n",
       " 'target_names': ['MedHouseVal'],\n",
       " 'feature_names': ['MedInc',\n",
       "  'HouseAge',\n",
       "  'AveRooms',\n",
       "  'AveBedrms',\n",
       "  'Population',\n",
       "  'AveOccup',\n",
       "  'Latitude',\n",
       "  'Longitude'],\n",
       " 'DESCR': '.. _california_housing_dataset:\\n\\nCalifornia Housing dataset\\n--------------------------\\n\\n**Data Set Characteristics:**\\n\\n    :Number of Instances: 20640\\n\\n    :Number of Attributes: 8 numeric, predictive attributes and the target\\n\\n    :Attribute Information:\\n        - MedInc        median income in block\\n        - HouseAge      median house age in block\\n        - AveRooms      average number of rooms\\n        - AveBedrms     average number of bedrooms\\n        - Population    block population\\n        - AveOccup      average house occupancy\\n        - Latitude      house block latitude\\n        - Longitude     house block longitude\\n\\n    :Missing Attribute Values: None\\n\\nThis dataset was obtained from the StatLib repository.\\nhttp://lib.stat.cmu.edu/datasets/\\n\\nThe target variable is the median house value for California districts.\\n\\nThis dataset was derived from the 1990 U.S. census, using one row per census\\nblock group. A block group is the smallest geographical unit for which the U.S.\\nCensus Bureau publishes sample data (a block group typically has a population\\nof 600 to 3,000 people).\\n\\nIt can be downloaded/loaded using the\\n:func:`sklearn.datasets.fetch_california_housing` function.\\n\\n.. topic:: References\\n\\n    - Pace, R. Kelley and Ronald Barry, Sparse Spatial Autoregressions,\\n      Statistics and Probability Letters, 33 (1997) 291-297\\n'}"
      ]
     },
     "execution_count": 4,
     "metadata": {},
     "output_type": "execute_result"
    }
   ],
   "source": [
    "housing"
   ]
  },
  {
   "cell_type": "code",
   "execution_count": 5,
   "metadata": {},
   "outputs": [
    {
     "data": {
      "text/plain": [
       "array([[   8.3252    ,   41.        ,    6.98412698, ...,    2.55555556,\n",
       "          37.88      , -122.23      ],\n",
       "       [   8.3014    ,   21.        ,    6.23813708, ...,    2.10984183,\n",
       "          37.86      , -122.22      ],\n",
       "       [   7.2574    ,   52.        ,    8.28813559, ...,    2.80225989,\n",
       "          37.85      , -122.24      ],\n",
       "       ...,\n",
       "       [   1.7       ,   17.        ,    5.20554273, ...,    2.3256351 ,\n",
       "          39.43      , -121.22      ],\n",
       "       [   1.8672    ,   18.        ,    5.32951289, ...,    2.12320917,\n",
       "          39.43      , -121.32      ],\n",
       "       [   2.3886    ,   16.        ,    5.25471698, ...,    2.61698113,\n",
       "          39.37      , -121.24      ]])"
      ]
     },
     "execution_count": 5,
     "metadata": {},
     "output_type": "execute_result"
    }
   ],
   "source": [
    "housing.data"
   ]
  },
  {
   "cell_type": "code",
   "execution_count": 6,
   "metadata": {},
   "outputs": [
    {
     "data": {
      "text/plain": [
       "array([4.526, 3.585, 3.521, ..., 0.923, 0.847, 0.894])"
      ]
     },
     "execution_count": 6,
     "metadata": {},
     "output_type": "execute_result"
    }
   ],
   "source": [
    "housing.target"
   ]
  },
  {
   "cell_type": "code",
   "execution_count": 7,
   "metadata": {},
   "outputs": [
    {
     "name": "stdout",
     "output_type": "stream",
     "text": [
      "['MedInc', 'HouseAge', 'AveRooms', 'AveBedrms', 'Population', 'AveOccup', 'Latitude', 'Longitude']\n"
     ]
    }
   ],
   "source": [
    "print(housing.feature_names)"
   ]
  },
  {
   "cell_type": "markdown",
   "metadata": {},
   "source": [
    "### train_valid_test"
   ]
  },
  {
   "cell_type": "code",
   "execution_count": 8,
   "metadata": {},
   "outputs": [],
   "source": [
    "from sklearn.model_selection import train_test_split"
   ]
  },
  {
   "cell_type": "code",
   "execution_count": 9,
   "metadata": {},
   "outputs": [],
   "source": [
    "X_train_full, X_test, y_train_full, y_test= train_test_split(housing.data, housing.target, random_state=42)\n",
    "X_train, X_valid, y_train, y_valid= train_test_split(X_train_full, y_train_full, random_state=42)"
   ]
  },
  {
   "cell_type": "code",
   "execution_count": 10,
   "metadata": {},
   "outputs": [
    {
     "name": "stdout",
     "output_type": "stream",
     "text": [
      "X_train:   (11610, 8)    X_valid:   (3870, 8)    X_test:   (5160, 8)\n"
     ]
    }
   ],
   "source": [
    "print('X_train:  ',X_train.shape, '   X_valid:  ', X_valid.shape, '   X_test:  ', X_test.shape)"
   ]
  },
  {
   "cell_type": "markdown",
   "metadata": {},
   "source": [
    "### Normalisation des données"
   ]
  },
  {
   "cell_type": "code",
   "execution_count": 11,
   "metadata": {},
   "outputs": [],
   "source": [
    "from sklearn.preprocessing import StandardScaler"
   ]
  },
  {
   "cell_type": "code",
   "execution_count": 12,
   "metadata": {},
   "outputs": [],
   "source": [
    "scaler=StandardScaler()\n",
    "X_train=scaler.fit_transform(X_train)\n",
    "X_valid=scaler.fit_transform(X_valid)\n",
    "X_test=scaler.fit_transform(X_test)"
   ]
  },
  {
   "cell_type": "code",
   "execution_count": 13,
   "metadata": {},
   "outputs": [],
   "source": [
    "np.random.seed(42)\n",
    "tf.random.set_seed(42)"
   ]
  },
  {
   "cell_type": "markdown",
   "metadata": {},
   "source": [
    "### Structure de notre réseau"
   ]
  },
  {
   "cell_type": "code",
   "execution_count": 14,
   "metadata": {},
   "outputs": [],
   "source": [
    "model=keras.models.Sequential([\n",
    "    keras.layers.Dense(30, activation=\"relu\", input_shape=[8]), \n",
    "    keras.layers.Dense(30, activation=\"relu\"),\n",
    "    keras.layers.Dense(1)\n",
    "])\n",
    "# or input_shape=X_train.shape[1:]"
   ]
  },
  {
   "cell_type": "code",
   "execution_count": 15,
   "metadata": {},
   "outputs": [
    {
     "name": "stdout",
     "output_type": "stream",
     "text": [
      "Model: \"sequential\"\n",
      "_________________________________________________________________\n",
      "Layer (type)                 Output Shape              Param #   \n",
      "=================================================================\n",
      "dense (Dense)                (None, 30)                270       \n",
      "_________________________________________________________________\n",
      "dense_1 (Dense)              (None, 30)                930       \n",
      "_________________________________________________________________\n",
      "dense_2 (Dense)              (None, 1)                 31        \n",
      "=================================================================\n",
      "Total params: 1,231\n",
      "Trainable params: 1,231\n",
      "Non-trainable params: 0\n",
      "_________________________________________________________________\n"
     ]
    }
   ],
   "source": [
    "model.summary()  # none signifie qu'on a fournie toutes les données d'entrée"
   ]
  },
  {
   "cell_type": "code",
   "execution_count": 16,
   "metadata": {},
   "outputs": [
    {
     "data": {
      "image/png": "[encoded data removed]",
      "text/plain": [
       "<IPython.core.display.Image object>"
      ]
     },
     "execution_count": 16,
     "metadata": {},
     "output_type": "execute_result"
    }
   ],
   "source": [
    "import pydot\n",
    "keras.utils.plot_model(model)"
   ]
  },
  {
   "cell_type": "markdown",
   "metadata": {},
   "source": [
    "### learning process"
   ]
  },
  {
   "cell_type": "code",
   "execution_count": 17,
   "metadata": {},
   "outputs": [],
   "source": [
    "model.compile(loss='mean_squared_error',\n",
    "             optimizer= keras.optimizers.SGD(learning_rate=1e-3), \n",
    "             metrics=['mae']) \n",
    "# lr is the learning rate of sgd by default= 0.01\n",
    "# mae : mean absolute error sum|y-y_pred|"
   ]
  },
  {
   "cell_type": "markdown",
   "metadata": {},
   "source": [
    "### train model"
   ]
  },
  {
   "cell_type": "code",
   "execution_count": 18,
   "metadata": {
    "scrolled": true
   },
   "outputs": [
    {
     "name": "stdout",
     "output_type": "stream",
     "text": [
      "Epoch 1/20\n",
      "363/363 [==============================] - 1s 1ms/step - loss: 1.8866 - mae: 0.9900 - val_loss: 0.7414 - val_mae: 0.6560\n",
      "Epoch 2/20\n",
      "363/363 [==============================] - 0s 982us/step - loss: 0.6577 - mae: 0.6042 - val_loss: 0.6221 - val_mae: 0.5870\n",
      "Epoch 3/20\n",
      "363/363 [==============================] - 0s 881us/step - loss: 0.5934 - mae: 0.5618 - val_loss: 0.5779 - val_mae: 0.5550\n",
      "Epoch 4/20\n",
      "363/363 [==============================] - 0s 864us/step - loss: 0.5557 - mae: 0.5398 - val_loss: 0.5572 - val_mae: 0.5496\n",
      "Epoch 5/20\n",
      "363/363 [==============================] - 0s 830us/step - loss: 0.5272 - mae: 0.5237 - val_loss: 0.5305 - val_mae: 0.5319\n",
      "Epoch 6/20\n",
      "363/363 [==============================] - 0s 830us/step - loss: 0.5033 - mae: 0.5113 - val_loss: 0.5113 - val_mae: 0.5224\n",
      "Epoch 7/20\n",
      "363/363 [==============================] - 0s 890us/step - loss: 0.4854 - mae: 0.5010 - val_loss: 0.4974 - val_mae: 0.5151\n",
      "Epoch 8/20\n",
      "363/363 [==============================] - 0s 997us/step - loss: 0.4709 - mae: 0.4924 - val_loss: 0.4903 - val_mae: 0.5109\n",
      "Epoch 9/20\n",
      "363/363 [==============================] - 0s 1ms/step - loss: 0.4578 - mae: 0.4857 - val_loss: 0.4773 - val_mae: 0.5029\n",
      "Epoch 10/20\n",
      "363/363 [==============================] - 0s 829us/step - loss: 0.4474 - mae: 0.4797 - val_loss: 0.4696 - val_mae: 0.4988\n",
      "Epoch 11/20\n",
      "363/363 [==============================] - 0s 905us/step - loss: 0.4393 - mae: 0.4744 - val_loss: 0.4704 - val_mae: 0.5039\n",
      "Epoch 12/20\n",
      "363/363 [==============================] - 0s 888us/step - loss: 0.4318 - mae: 0.4703 - val_loss: 0.4590 - val_mae: 0.4942\n",
      "Epoch 13/20\n",
      "363/363 [==============================] - 0s 872us/step - loss: 0.4261 - mae: 0.4674 - val_loss: 0.4587 - val_mae: 0.4963\n",
      "Epoch 14/20\n",
      "363/363 [==============================] - 0s 867us/step - loss: 0.4202 - mae: 0.4636 - val_loss: 0.4550 - val_mae: 0.4951\n",
      "Epoch 15/20\n",
      "363/363 [==============================] - 0s 853us/step - loss: 0.4155 - mae: 0.4613 - val_loss: 0.4507 - val_mae: 0.4904\n",
      "Epoch 16/20\n",
      "363/363 [==============================] - 0s 847us/step - loss: 0.4112 - mae: 0.4591 - val_loss: 0.4458 - val_mae: 0.4876\n",
      "Epoch 17/20\n",
      "363/363 [==============================] - 0s 926us/step - loss: 0.4077 - mae: 0.4569 - val_loss: 0.4431 - val_mae: 0.4835\n",
      "Epoch 18/20\n",
      "363/363 [==============================] - 0s 902us/step - loss: 0.4040 - mae: 0.4545 - val_loss: 0.4418 - val_mae: 0.4822\n",
      "Epoch 19/20\n",
      "363/363 [==============================] - 0s 906us/step - loss: 0.4004 - mae: 0.4521 - val_loss: 0.4388 - val_mae: 0.4807\n",
      "Epoch 20/20\n",
      "363/363 [==============================] - 0s 865us/step - loss: 0.3980 - mae: 0.4508 - val_loss: 0.4383 - val_mae: 0.4820\n"
     ]
    }
   ],
   "source": [
    "model_history=model.fit(X_train, y_train, epochs=20, validation_data=(X_valid,y_valid))"
   ]
  },
  {
   "cell_type": "code",
   "execution_count": 19,
   "metadata": {},
   "outputs": [
    {
     "name": "stdout",
     "output_type": "stream",
     "text": [
      "162/162 [==============================] - 0s 617us/step - loss: 0.3993 - mae: 0.4595\n"
     ]
    }
   ],
   "source": [
    "mae_test=model.evaluate(X_test,y_test)"
   ]
  },
  {
   "cell_type": "code",
   "execution_count": 20,
   "metadata": {
    "scrolled": true
   },
   "outputs": [
    {
     "data": {
      "text/plain": [
       "{'loss': [1.8866397142410278,\n",
       "  0.6577126979827881,\n",
       "  0.593418538570404,\n",
       "  0.5557191371917725,\n",
       "  0.5271905064582825,\n",
       "  0.5032975673675537,\n",
       "  0.48535558581352234,\n",
       "  0.47091811895370483,\n",
       "  0.45779937505722046,\n",
       "  0.4474469721317291,\n",
       "  0.4393136501312256,\n",
       "  0.43176087737083435,\n",
       "  0.42605164647102356,\n",
       "  0.42017653584480286,\n",
       "  0.41549986600875854,\n",
       "  0.41116511821746826,\n",
       "  0.4077068567276001,\n",
       "  0.40395283699035645,\n",
       "  0.4004494547843933,\n",
       "  0.39796027541160583],\n",
       " 'mae': [0.9900256991386414,\n",
       "  0.6041509509086609,\n",
       "  0.5618005990982056,\n",
       "  0.5398454070091248,\n",
       "  0.5237293243408203,\n",
       "  0.5112562775611877,\n",
       "  0.5010154247283936,\n",
       "  0.492448091506958,\n",
       "  0.4857262969017029,\n",
       "  0.4797375202178955,\n",
       "  0.4744163453578949,\n",
       "  0.4703480303287506,\n",
       "  0.46740883588790894,\n",
       "  0.4636021554470062,\n",
       "  0.461266428232193,\n",
       "  0.4591343402862549,\n",
       "  0.4568699896335602,\n",
       "  0.4545365273952484,\n",
       "  0.4521064758300781,\n",
       "  0.45083147287368774],\n",
       " 'val_loss': [0.7413728833198547,\n",
       "  0.6220595836639404,\n",
       "  0.5779173374176025,\n",
       "  0.5571869611740112,\n",
       "  0.5305212736129761,\n",
       "  0.5112658739089966,\n",
       "  0.49737149477005005,\n",
       "  0.4903269112110138,\n",
       "  0.4772711396217346,\n",
       "  0.4695732593536377,\n",
       "  0.4703766405582428,\n",
       "  0.4590151607990265,\n",
       "  0.4586655795574188,\n",
       "  0.45500877499580383,\n",
       "  0.45073699951171875,\n",
       "  0.4458054006099701,\n",
       "  0.44312483072280884,\n",
       "  0.44182002544403076,\n",
       "  0.4387696385383606,\n",
       "  0.43828630447387695],\n",
       " 'val_mae': [0.6560152769088745,\n",
       "  0.5870209336280823,\n",
       "  0.5550429821014404,\n",
       "  0.5495699644088745,\n",
       "  0.5318752527236938,\n",
       "  0.5223987698554993,\n",
       "  0.5151413083076477,\n",
       "  0.5109214186668396,\n",
       "  0.502907931804657,\n",
       "  0.4988013803958893,\n",
       "  0.503919243812561,\n",
       "  0.49423903226852417,\n",
       "  0.4962692856788635,\n",
       "  0.4951176047325134,\n",
       "  0.49042701721191406,\n",
       "  0.48755040764808655,\n",
       "  0.4834802448749542,\n",
       "  0.4822426438331604,\n",
       "  0.480660080909729,\n",
       "  0.48197242617607117]}"
      ]
     },
     "execution_count": 20,
     "metadata": {},
     "output_type": "execute_result"
    }
   ],
   "source": [
    "model_history.history"
   ]
  },
  {
   "cell_type": "code",
   "execution_count": 21,
   "metadata": {},
   "outputs": [
    {
     "data": {
      "image/png": "[encoded data removed]",
      "text/plain": [
       "<Figure size 576x360 with 1 Axes>"
      ]
     },
     "metadata": {
      "needs_background": "light"
     },
     "output_type": "display_data"
    }
   ],
   "source": [
    "pd.DataFrame(model_history.history).plot(figsize=(8,5))\n",
    "plt.grid(True)\n",
    "plt.gca().set_ylim(0,1)          \n",
    "plt.show()      "
   ]
  },
  {
   "cell_type": "code",
   "execution_count": 22,
   "metadata": {},
   "outputs": [
    {
     "data": {
      "text/plain": [
       "array([[0.49],\n",
       "       [1.93],\n",
       "       [3.64]], dtype=float32)"
      ]
     },
     "execution_count": 22,
     "metadata": {},
     "output_type": "execute_result"
    }
   ],
   "source": [
    "X_new=X_test[:3]\n",
    "y_pred=model.predict(X_new)\n",
    "y_pred.round(2)"
   ]
  },
  {
   "cell_type": "code",
   "execution_count": 23,
   "metadata": {},
   "outputs": [],
   "source": [
    "del model"
   ]
  },
  {
   "cell_type": "code",
   "execution_count": 24,
   "metadata": {},
   "outputs": [],
   "source": [
    "keras.backend.clear_session() "
   ]
  },
  {
   "cell_type": "markdown",
   "metadata": {},
   "source": [
    "# Functional API"
   ]
  },
  {
   "cell_type": "code",
   "execution_count": 25,
   "metadata": {},
   "outputs": [],
   "source": [
    "input_=keras.layers.Input(X_train.shape[1:])\n",
    "hidden1=keras.layers.Dense(30, activation=\"relu\")(input_)\n",
    "hidden2=keras.layers.Dense(30, activation=\"relu\")(hidden1)\n",
    "concat= keras.layers.concatenate([input_ , hidden2])\n",
    "output=keras.layers.Dense(1)(concat)\n",
    "model=keras.models.Model(inputs=[input_], outputs=[output])"
   ]
  },
  {
   "cell_type": "code",
   "execution_count": 26,
   "metadata": {},
   "outputs": [
    {
     "name": "stdout",
     "output_type": "stream",
     "text": [
      "Model: \"model\"\n",
      "__________________________________________________________________________________________________\n",
      "Layer (type)                    Output Shape         Param #     Connected to                     \n",
      "==================================================================================================\n",
      "input_1 (InputLayer)            [(None, 8)]          0                                            \n",
      "__________________________________________________________________________________________________\n",
      "dense (Dense)                   (None, 30)           270         input_1[0][0]                    \n",
      "__________________________________________________________________________________________________\n",
      "dense_1 (Dense)                 (None, 30)           930         dense[0][0]                      \n",
      "__________________________________________________________________________________________________\n",
      "concatenate (Concatenate)       (None, 38)           0           input_1[0][0]                    \n",
      "                                                                 dense_1[0][0]                    \n",
      "__________________________________________________________________________________________________\n",
      "dense_2 (Dense)                 (None, 1)            39          concatenate[0][0]                \n",
      "==================================================================================================\n",
      "Total params: 1,239\n",
      "Trainable params: 1,239\n",
      "Non-trainable params: 0\n",
      "__________________________________________________________________________________________________\n"
     ]
    }
   ],
   "source": [
    "model.summary()"
   ]
  },
  {
   "cell_type": "code",
   "execution_count": 27,
   "metadata": {},
   "outputs": [
    {
     "data": {
      "image/png": "[encoded data removed]",
      "text/plain": [
       "<IPython.core.display.Image object>"
      ]
     },
     "execution_count": 27,
     "metadata": {},
     "output_type": "execute_result"
    }
   ],
   "source": [
    "import pydot\n",
    "keras.utils.plot_model(model)"
   ]
  },
  {
   "cell_type": "code",
   "execution_count": 28,
   "metadata": {},
   "outputs": [],
   "source": [
    "model.compile(loss='mean_squared_error',\n",
    "             optimizer= keras.optimizers.SGD(learning_rate=1e-3), \n",
    "             metrics=['mae']) "
   ]
  },
  {
   "cell_type": "code",
   "execution_count": 29,
   "metadata": {
    "scrolled": true
   },
   "outputs": [
    {
     "name": "stdout",
     "output_type": "stream",
     "text": [
      "Epoch 1/20\n",
      "363/363 [==============================] - 1s 1ms/step - loss: 1.6920 - mae: 0.8893 - val_loss: 0.7316 - val_mae: 0.6088\n",
      "Epoch 2/20\n",
      "363/363 [==============================] - 0s 841us/step - loss: 0.6836 - mae: 0.5994 - val_loss: 0.6670 - val_mae: 0.5999\n",
      "Epoch 3/20\n",
      "363/363 [==============================] - 0s 851us/step - loss: 0.6265 - mae: 0.5775 - val_loss: 0.6248 - val_mae: 0.5768\n",
      "Epoch 4/20\n",
      "363/363 [==============================] - 0s 830us/step - loss: 0.5877 - mae: 0.5581 - val_loss: 0.5963 - val_mae: 0.5662\n",
      "Epoch 5/20\n",
      "363/363 [==============================] - 0s 846us/step - loss: 0.5566 - mae: 0.5421 - val_loss: 0.5699 - val_mae: 0.5521\n",
      "Epoch 6/20\n",
      "363/363 [==============================] - 0s 895us/step - loss: 0.5312 - mae: 0.5298 - val_loss: 0.5498 - val_mae: 0.5416\n",
      "Epoch 7/20\n",
      "363/363 [==============================] - 0s 858us/step - loss: 0.5108 - mae: 0.5186 - val_loss: 0.5336 - val_mae: 0.5350\n",
      "Epoch 8/20\n",
      "363/363 [==============================] - 0s 815us/step - loss: 0.4952 - mae: 0.5096 - val_loss: 0.5219 - val_mae: 0.5292\n",
      "Epoch 9/20\n",
      "363/363 [==============================] - 0s 832us/step - loss: 0.4802 - mae: 0.5025 - val_loss: 0.5099 - val_mae: 0.5216\n",
      "Epoch 10/20\n",
      "363/363 [==============================] - 0s 820us/step - loss: 0.4685 - mae: 0.4959 - val_loss: 0.4996 - val_mae: 0.5158\n",
      "Epoch 11/20\n",
      "363/363 [==============================] - 0s 885us/step - loss: 0.4590 - mae: 0.4897 - val_loss: 0.4957 - val_mae: 0.5174\n",
      "Epoch 12/20\n",
      "363/363 [==============================] - 0s 837us/step - loss: 0.4502 - mae: 0.4851 - val_loss: 0.4861 - val_mae: 0.5098\n",
      "Epoch 13/20\n",
      "363/363 [==============================] - 0s 864us/step - loss: 0.4433 - mae: 0.4811 - val_loss: 0.4822 - val_mae: 0.5098\n",
      "Epoch 14/20\n",
      "363/363 [==============================] - 0s 848us/step - loss: 0.4363 - mae: 0.4766 - val_loss: 0.4775 - val_mae: 0.5077\n",
      "Epoch 15/20\n",
      "363/363 [==============================] - 0s 858us/step - loss: 0.4306 - mae: 0.4736 - val_loss: 0.4720 - val_mae: 0.5028\n",
      "Epoch 16/20\n",
      "363/363 [==============================] - 0s 865us/step - loss: 0.4253 - mae: 0.4703 - val_loss: 0.4682 - val_mae: 0.5011\n",
      "Epoch 17/20\n",
      "363/363 [==============================] - 0s 875us/step - loss: 0.4213 - mae: 0.4676 - val_loss: 0.4646 - val_mae: 0.4971\n",
      "Epoch 18/20\n",
      "363/363 [==============================] - 0s 844us/step - loss: 0.4168 - mae: 0.4650 - val_loss: 0.4620 - val_mae: 0.4952\n",
      "Epoch 19/20\n",
      "363/363 [==============================] - 0s 892us/step - loss: 0.4126 - mae: 0.4616 - val_loss: 0.4599 - val_mae: 0.4941\n",
      "Epoch 20/20\n",
      "363/363 [==============================] - 0s 903us/step - loss: 0.4096 - mae: 0.4600 - val_loss: 0.4570 - val_mae: 0.4946\n"
     ]
    }
   ],
   "source": [
    "model_history=model.fit(X_train, y_train, epochs=20, validation_data=(X_valid,y_valid))"
   ]
  },
  {
   "cell_type": "code",
   "execution_count": 30,
   "metadata": {},
   "outputs": [
    {
     "name": "stdout",
     "output_type": "stream",
     "text": [
      "162/162 [==============================] - 0s 594us/step - loss: 0.4088 - mae: 0.4677\n"
     ]
    }
   ],
   "source": [
    "mae_test=model.evaluate(X_test,y_test)"
   ]
  },
  {
   "cell_type": "code",
   "execution_count": 31,
   "metadata": {},
   "outputs": [
    {
     "data": {
      "image/png": "[encoded data removed]",
      "text/plain": [
       "<Figure size 576x360 with 1 Axes>"
      ]
     },
     "metadata": {
      "needs_background": "light"
     },
     "output_type": "display_data"
    }
   ],
   "source": [
    "pd.DataFrame(model_history.history).plot(figsize=(8,5))\n",
    "plt.grid(True)\n",
    "plt.gca().set_ylim(0,1)          \n",
    "plt.show()     "
   ]
  },
  {
   "cell_type": "code",
   "execution_count": 32,
   "metadata": {},
   "outputs": [
    {
     "name": "stdout",
     "output_type": "stream",
     "text": [
      "162/162 [==============================] - 0s 622us/step - loss: 0.4088 - mae: 0.4677\n"
     ]
    },
    {
     "data": {
      "text/plain": [
       "[0.40876832604408264, 0.46774259209632874]"
      ]
     },
     "execution_count": 32,
     "metadata": {},
     "output_type": "execute_result"
    }
   ],
   "source": [
    "model.evaluate(X_test,y_test)"
   ]
  },
  {
   "cell_type": "markdown",
   "metadata": {},
   "source": [
    "# Saving and Restoring our model"
   ]
  },
  {
   "cell_type": "code",
   "execution_count": 33,
   "metadata": {},
   "outputs": [],
   "source": [
    "model.save(\"API_Func_Model.h5\")"
   ]
  },
  {
   "cell_type": "code",
   "execution_count": 34,
   "metadata": {},
   "outputs": [
    {
     "data": {
      "text/plain": [
       "'C:\\\\Users\\\\dell\\\\Documents\\\\apprentissage_ML_DL_Python_R_udemy\\\\codes\\\\Python_codes\\\\deep_learning'"
      ]
     },
     "execution_count": 34,
     "metadata": {},
     "output_type": "execute_result"
    }
   ],
   "source": [
    "%pwd # le model est sauvegardé sur ce chemin"
   ]
  },
  {
   "cell_type": "raw",
   "metadata": {},
   "source": [
    "# for giving new directory name:\n",
    "%cd le chemin sans griffe\n",
    "exemple:\n",
    "%cd C:\\\\Users\\\\dell\\\\Documents\\\\apprentissage_ML_DL_Python_R_udemy\\\\codes\\\\Python_codes\\\\deep_learning"
   ]
  },
  {
   "cell_type": "code",
   "execution_count": 35,
   "metadata": {},
   "outputs": [],
   "source": [
    "del model"
   ]
  },
  {
   "cell_type": "code",
   "execution_count": 36,
   "metadata": {},
   "outputs": [],
   "source": [
    "keras.backend.clear_session()"
   ]
  },
  {
   "cell_type": "markdown",
   "metadata": {},
   "source": [
    "### maintenant que le model est supprimé nous allons le rappeler à traver la sauvegarde qu'on a créée"
   ]
  },
  {
   "cell_type": "code",
   "execution_count": 38,
   "metadata": {},
   "outputs": [],
   "source": [
    "model = keras.models.load_model(\"API_Func_Model.h5\")"
   ]
  },
  {
   "cell_type": "code",
   "execution_count": 39,
   "metadata": {},
   "outputs": [
    {
     "name": "stdout",
     "output_type": "stream",
     "text": [
      "Model: \"model\"\n",
      "__________________________________________________________________________________________________\n",
      "Layer (type)                    Output Shape         Param #     Connected to                     \n",
      "==================================================================================================\n",
      "input_1 (InputLayer)            [(None, 8)]          0                                            \n",
      "__________________________________________________________________________________________________\n",
      "dense (Dense)                   (None, 30)           270         input_1[0][0]                    \n",
      "__________________________________________________________________________________________________\n",
      "dense_1 (Dense)                 (None, 30)           930         dense[0][0]                      \n",
      "__________________________________________________________________________________________________\n",
      "concatenate (Concatenate)       (None, 38)           0           input_1[0][0]                    \n",
      "                                                                 dense_1[0][0]                    \n",
      "__________________________________________________________________________________________________\n",
      "dense_2 (Dense)                 (None, 1)            39          concatenate[0][0]                \n",
      "==================================================================================================\n",
      "Total params: 1,239\n",
      "Trainable params: 1,239\n",
      "Non-trainable params: 0\n",
      "__________________________________________________________________________________________________\n"
     ]
    }
   ],
   "source": [
    "model.summary()"
   ]
  },
  {
   "cell_type": "code",
   "execution_count": 40,
   "metadata": {},
   "outputs": [],
   "source": [
    "y_predict=model.predict(X_new)"
   ]
  },
  {
   "cell_type": "code",
   "execution_count": 41,
   "metadata": {},
   "outputs": [
    {
     "data": {
      "text/plain": [
       "array([[0.6545357],\n",
       "       [1.7443745],\n",
       "       [3.8166654]], dtype=float32)"
      ]
     },
     "execution_count": 41,
     "metadata": {},
     "output_type": "execute_result"
    }
   ],
   "source": [
    "y_predict"
   ]
  },
  {
   "cell_type": "code",
   "execution_count": 42,
   "metadata": {},
   "outputs": [
    {
     "data": {
      "text/plain": [
       "array([[0.48965693],\n",
       "       [1.9347274 ],\n",
       "       [3.6413553 ]], dtype=float32)"
      ]
     },
     "execution_count": 42,
     "metadata": {},
     "output_type": "execute_result"
    }
   ],
   "source": [
    "y_pred"
   ]
  },
  {
   "cell_type": "markdown",
   "metadata": {},
   "source": [
    "On ne peut sauvegarder notre modele qu'après l'avoir entrainé. Et dans certaines situations l'entrainement peut prendre beaucoup de temps. ce qui introduit la foction si dessous permettant de sauvegarder le model apres chaque epoch\n",
    "# Callback function"
   ]
  },
  {
   "cell_type": "code",
   "execution_count": 43,
   "metadata": {},
   "outputs": [],
   "source": [
    "keras.backend.clear_session()"
   ]
  },
  {
   "cell_type": "code",
   "execution_count": 44,
   "metadata": {},
   "outputs": [],
   "source": [
    "np.random.seed(42)\n",
    "tf.random.set_seed(42)"
   ]
  },
  {
   "cell_type": "code",
   "execution_count": 45,
   "metadata": {},
   "outputs": [],
   "source": [
    "model=keras.models.Sequential([\n",
    "    keras.layers.Dense(30, activation=\"relu\", input_shape=[8]), \n",
    "    keras.layers.Dense(30, activation=\"relu\"),\n",
    "    keras.layers.Dense(1)\n",
    "])"
   ]
  },
  {
   "cell_type": "code",
   "execution_count": 46,
   "metadata": {},
   "outputs": [],
   "source": [
    "model.compile(loss='mean_squared_error', optimizer= keras.optimizers.SGD(learning_rate=1e-3)) "
   ]
  },
  {
   "cell_type": "code",
   "execution_count": 47,
   "metadata": {},
   "outputs": [],
   "source": [
    "checkpoint_cb=keras.callbacks.ModelCheckpoint(\"Model-{epoch:02d}.h5\") # si epoch dans les centaines: epoch:03digits"
   ]
  },
  {
   "cell_type": "code",
   "execution_count": 48,
   "metadata": {},
   "outputs": [
    {
     "name": "stdout",
     "output_type": "stream",
     "text": [
      "Epoch 1/10\n",
      "363/363 [==============================] - 1s 1ms/step - loss: 1.8866 - val_loss: 0.7414\n",
      "Epoch 2/10\n",
      "363/363 [==============================] - 0s 892us/step - loss: 0.6577 - val_loss: 0.6221\n",
      "Epoch 3/10\n",
      "363/363 [==============================] - 0s 899us/step - loss: 0.5934 - val_loss: 0.5779\n",
      "Epoch 4/10\n",
      "363/363 [==============================] - 0s 827us/step - loss: 0.5557 - val_loss: 0.5572\n",
      "Epoch 5/10\n",
      "363/363 [==============================] - 0s 899us/step - loss: 0.5272 - val_loss: 0.5305\n",
      "Epoch 6/10\n",
      "363/363 [==============================] - 0s 904us/step - loss: 0.5033 - val_loss: 0.5113\n",
      "Epoch 7/10\n",
      "363/363 [==============================] - 0s 932us/step - loss: 0.4854 - val_loss: 0.4974\n",
      "Epoch 8/10\n",
      "363/363 [==============================] - 0s 876us/step - loss: 0.4709 - val_loss: 0.4903\n",
      "Epoch 9/10\n",
      "363/363 [==============================] - 0s 1ms/step - loss: 0.4578 - val_loss: 0.4773\n",
      "Epoch 10/10\n",
      "363/363 [==============================] - 0s 1ms/step - loss: 0.4474 - val_loss: 0.4696\n"
     ]
    }
   ],
   "source": [
    "model_history=model.fit(X_train, y_train, epochs=10, \n",
    "                        validation_data=(X_valid,y_valid),\n",
    "                       callbacks=[checkpoint_cb])"
   ]
  },
  {
   "cell_type": "markdown",
   "metadata": {},
   "source": [
    "On peut appeler le model correspondant à l' epoch qu'on veut.\n",
    "Mais il n' y a pas de réel besoin de sauvegarder le model pour chaque epoch, le mieux est de sauvegarder seulement le meilleur model\n",
    "\n",
    "# Save best only"
   ]
  },
  {
   "cell_type": "code",
   "execution_count": 49,
   "metadata": {},
   "outputs": [],
   "source": [
    "del model\n",
    "keras.backend.clear_session()"
   ]
  },
  {
   "cell_type": "code",
   "execution_count": 50,
   "metadata": {},
   "outputs": [],
   "source": [
    "model=keras.models.Sequential([\n",
    "    keras.layers.Dense(30, activation=\"relu\", input_shape=[8]), \n",
    "    keras.layers.Dense(30, activation=\"relu\"),\n",
    "    keras.layers.Dense(1)\n",
    "])"
   ]
  },
  {
   "cell_type": "code",
   "execution_count": 51,
   "metadata": {},
   "outputs": [],
   "source": [
    "model.compile(loss='mean_squared_error', optimizer= keras.optimizers.SGD(learning_rate=1e-3)) "
   ]
  },
  {
   "cell_type": "code",
   "execution_count": 52,
   "metadata": {},
   "outputs": [],
   "source": [
    "checkpoint_cb=keras.callbacks.ModelCheckpoint(\"Best_Model.h5\",save_best_only=True)"
   ]
  },
  {
   "cell_type": "code",
   "execution_count": 53,
   "metadata": {},
   "outputs": [
    {
     "name": "stdout",
     "output_type": "stream",
     "text": [
      "Epoch 1/10\n",
      "363/363 [==============================] - 1s 1ms/step - loss: 1.8542 - val_loss: 0.8979\n",
      "Epoch 2/10\n",
      "363/363 [==============================] - 0s 845us/step - loss: 0.7854 - val_loss: 0.7405\n",
      "Epoch 3/10\n",
      "363/363 [==============================] - 0s 1ms/step - loss: 0.6817 - val_loss: 0.6815\n",
      "Epoch 4/10\n",
      "363/363 [==============================] - 0s 889us/step - loss: 0.6283 - val_loss: 0.6492\n",
      "Epoch 5/10\n",
      "363/363 [==============================] - 0s 858us/step - loss: 0.5868 - val_loss: 0.6109\n",
      "Epoch 6/10\n",
      "363/363 [==============================] - 0s 887us/step - loss: 0.5510 - val_loss: 0.5858\n",
      "Epoch 7/10\n",
      "363/363 [==============================] - 0s 910us/step - loss: 0.5225 - val_loss: 0.5616\n",
      "Epoch 8/10\n",
      "363/363 [==============================] - 0s 880us/step - loss: 0.4993 - val_loss: 0.5418\n",
      "Epoch 9/10\n",
      "363/363 [==============================] - 0s 840us/step - loss: 0.4803 - val_loss: 0.5263\n",
      "Epoch 10/10\n",
      "363/363 [==============================] - 0s 843us/step - loss: 0.4649 - val_loss: 0.5121\n"
     ]
    }
   ],
   "source": [
    "model_history=model.fit(X_train, y_train, epochs=10, \n",
    "                        validation_data=(X_valid,y_valid),\n",
    "                       callbacks=[checkpoint_cb])"
   ]
  },
  {
   "cell_type": "markdown",
   "metadata": {},
   "source": [
    "##### une chose à savoir est qu'on peut fixé un paramètre qui nous permettra d'arrêter l'entrainement de notre model à partir de l'epoch à partir duquel la precision n'évolue plus. Donc on peut juster donner un grand nombre pour le parametre epoch. une fois la convergence  atteinte l'entrainement cessera après 'patience' nombre de epoch"
   ]
  },
  {
   "cell_type": "code",
   "execution_count": 54,
   "metadata": {},
   "outputs": [],
   "source": [
    "del model\n",
    "keras.backend.clear_session()"
   ]
  },
  {
   "cell_type": "code",
   "execution_count": 55,
   "metadata": {},
   "outputs": [],
   "source": [
    "model=keras.models.Sequential([\n",
    "    keras.layers.Dense(30, activation=\"relu\", input_shape=[8]), \n",
    "    keras.layers.Dense(30, activation=\"relu\"),\n",
    "    keras.layers.Dense(1)\n",
    "])"
   ]
  },
  {
   "cell_type": "code",
   "execution_count": 56,
   "metadata": {},
   "outputs": [],
   "source": [
    "model.compile(loss='mean_squared_error', optimizer= keras.optimizers.SGD(learning_rate=1e-3)) "
   ]
  },
  {
   "cell_type": "code",
   "execution_count": 57,
   "metadata": {},
   "outputs": [],
   "source": [
    "checkpoint_cb=keras.callbacks.ModelCheckpoint(\"Early_Stopp_Model.h5\",save_best_only=True)"
   ]
  },
  {
   "cell_type": "code",
   "execution_count": 58,
   "metadata": {},
   "outputs": [],
   "source": [
    "early_stopping_cb=keras.callbacks.EarlyStopping(patience=10, restore_best_weights=True)"
   ]
  },
  {
   "cell_type": "code",
   "execution_count": 59,
   "metadata": {},
   "outputs": [
    {
     "name": "stdout",
     "output_type": "stream",
     "text": [
      "Epoch 1/200\n",
      "363/363 [==============================] - 1s 1ms/step - loss: 1.4581 - val_loss: 0.8261\n",
      "Epoch 2/200\n",
      "363/363 [==============================] - 0s 744us/step - loss: 0.7368 - val_loss: 0.6971\n",
      "Epoch 3/200\n",
      "363/363 [==============================] - 0s 812us/step - loss: 0.6516 - val_loss: 0.6317\n",
      "Epoch 4/200\n",
      "363/363 [==============================] - 0s 820us/step - loss: 0.5951 - val_loss: 0.5943\n",
      "Epoch 5/200\n",
      "363/363 [==============================] - 0s 804us/step - loss: 0.5536 - val_loss: 0.5578\n",
      "Epoch 6/200\n",
      "363/363 [==============================] - 0s 799us/step - loss: 0.5199 - val_loss: 0.5338\n",
      "Epoch 7/200\n",
      "363/363 [==============================] - 0s 831us/step - loss: 0.4940 - val_loss: 0.5146\n",
      "Epoch 8/200\n",
      "363/363 [==============================] - 0s 801us/step - loss: 0.4730 - val_loss: 0.4992\n",
      "Epoch 9/200\n",
      "363/363 [==============================] - 0s 822us/step - loss: 0.4563 - val_loss: 0.4867\n",
      "Epoch 10/200\n",
      "363/363 [==============================] - 0s 788us/step - loss: 0.4431 - val_loss: 0.4755\n",
      "Epoch 11/200\n",
      "363/363 [==============================] - 0s 795us/step - loss: 0.4333 - val_loss: 0.4702\n",
      "Epoch 12/200\n",
      "363/363 [==============================] - 0s 771us/step - loss: 0.4250 - val_loss: 0.4627\n",
      "Epoch 13/200\n",
      "363/363 [==============================] - 0s 776us/step - loss: 0.4183 - val_loss: 0.4609\n",
      "Epoch 14/200\n",
      "363/363 [==============================] - 0s 725us/step - loss: 0.4128 - val_loss: 0.4567\n",
      "Epoch 15/200\n",
      "363/363 [==============================] - 0s 837us/step - loss: 0.4081 - val_loss: 0.4505\n",
      "Epoch 16/200\n",
      "363/363 [==============================] - 0s 773us/step - loss: 0.4041 - val_loss: 0.4489\n",
      "Epoch 17/200\n",
      "363/363 [==============================] - 0s 796us/step - loss: 0.4005 - val_loss: 0.4448\n",
      "Epoch 18/200\n",
      "363/363 [==============================] - 0s 796us/step - loss: 0.3975 - val_loss: 0.4427\n",
      "Epoch 19/200\n",
      "363/363 [==============================] - 0s 792us/step - loss: 0.3941 - val_loss: 0.4412\n",
      "Epoch 20/200\n",
      "363/363 [==============================] - 0s 771us/step - loss: 0.3920 - val_loss: 0.4390\n",
      "Epoch 21/200\n",
      "363/363 [==============================] - 0s 824us/step - loss: 0.3894 - val_loss: 0.4393\n",
      "Epoch 22/200\n",
      "363/363 [==============================] - 0s 802us/step - loss: 0.3873 - val_loss: 0.4376\n",
      "Epoch 23/200\n",
      "363/363 [==============================] - 0s 789us/step - loss: 0.3852 - val_loss: 0.4322\n",
      "Epoch 24/200\n",
      "363/363 [==============================] - 0s 903us/step - loss: 0.3832 - val_loss: 0.4337\n",
      "Epoch 25/200\n",
      "363/363 [==============================] - 0s 760us/step - loss: 0.3811 - val_loss: 0.4297\n",
      "Epoch 26/200\n",
      "363/363 [==============================] - 0s 809us/step - loss: 0.3796 - val_loss: 0.4292\n",
      "Epoch 27/200\n",
      "363/363 [==============================] - 0s 793us/step - loss: 0.3781 - val_loss: 0.4274\n",
      "Epoch 28/200\n",
      "363/363 [==============================] - 0s 795us/step - loss: 0.3766 - val_loss: 0.4285\n",
      "Epoch 29/200\n",
      "363/363 [==============================] - 0s 807us/step - loss: 0.3750 - val_loss: 0.4274\n",
      "Epoch 30/200\n",
      "363/363 [==============================] - 0s 781us/step - loss: 0.3736 - val_loss: 0.4270\n",
      "Epoch 31/200\n",
      "363/363 [==============================] - 0s 782us/step - loss: 0.3719 - val_loss: 0.4255\n",
      "Epoch 32/200\n",
      "363/363 [==============================] - 0s 802us/step - loss: 0.3708 - val_loss: 0.4290\n",
      "Epoch 33/200\n",
      "363/363 [==============================] - 0s 826us/step - loss: 0.3703 - val_loss: 0.4243\n",
      "Epoch 34/200\n",
      "363/363 [==============================] - 0s 780us/step - loss: 0.3686 - val_loss: 0.4230\n",
      "Epoch 35/200\n",
      "363/363 [==============================] - 0s 854us/step - loss: 0.3676 - val_loss: 0.4248\n",
      "Epoch 36/200\n",
      "363/363 [==============================] - 0s 809us/step - loss: 0.3665 - val_loss: 0.4218\n",
      "Epoch 37/200\n",
      "363/363 [==============================] - 0s 806us/step - loss: 0.3655 - val_loss: 0.4225\n",
      "Epoch 38/200\n",
      "363/363 [==============================] - 0s 797us/step - loss: 0.3644 - val_loss: 0.4205\n",
      "Epoch 39/200\n",
      "363/363 [==============================] - 0s 785us/step - loss: 0.3633 - val_loss: 0.4197\n",
      "Epoch 40/200\n",
      "363/363 [==============================] - 0s 824us/step - loss: 0.3623 - val_loss: 0.4185\n",
      "Epoch 41/200\n",
      "363/363 [==============================] - 0s 812us/step - loss: 0.3616 - val_loss: 0.4178\n",
      "Epoch 42/200\n",
      "363/363 [==============================] - 0s 808us/step - loss: 0.3607 - val_loss: 0.4187\n",
      "Epoch 43/200\n",
      "363/363 [==============================] - 0s 772us/step - loss: 0.3596 - val_loss: 0.4185\n",
      "Epoch 44/200\n",
      "363/363 [==============================] - 0s 780us/step - loss: 0.3588 - val_loss: 0.4191\n",
      "Epoch 45/200\n",
      "363/363 [==============================] - 0s 785us/step - loss: 0.3581 - val_loss: 0.4178\n",
      "Epoch 46/200\n",
      "363/363 [==============================] - 0s 870us/step - loss: 0.3571 - val_loss: 0.4164\n",
      "Epoch 47/200\n",
      "363/363 [==============================] - 0s 767us/step - loss: 0.3563 - val_loss: 0.4158\n",
      "Epoch 48/200\n",
      "363/363 [==============================] - 0s 867us/step - loss: 0.3554 - val_loss: 0.4160\n",
      "Epoch 49/200\n",
      "363/363 [==============================] - 0s 789us/step - loss: 0.3550 - val_loss: 0.4148\n",
      "Epoch 50/200\n",
      "363/363 [==============================] - 0s 802us/step - loss: 0.3540 - val_loss: 0.4164\n",
      "Epoch 51/200\n",
      "363/363 [==============================] - 0s 781us/step - loss: 0.3532 - val_loss: 0.4145\n",
      "Epoch 52/200\n",
      "363/363 [==============================] - 0s 790us/step - loss: 0.3528 - val_loss: 0.4155\n",
      "Epoch 53/200\n",
      "363/363 [==============================] - 0s 795us/step - loss: 0.3519 - val_loss: 0.4163\n",
      "Epoch 54/200\n",
      "363/363 [==============================] - 0s 835us/step - loss: 0.3512 - val_loss: 0.4131\n",
      "Epoch 55/200\n",
      "363/363 [==============================] - 0s 811us/step - loss: 0.3506 - val_loss: 0.4145\n",
      "Epoch 56/200\n",
      "363/363 [==============================] - 0s 831us/step - loss: 0.3500 - val_loss: 0.4142\n",
      "Epoch 57/200\n",
      "363/363 [==============================] - 0s 829us/step - loss: 0.3494 - val_loss: 0.4143\n",
      "Epoch 58/200\n",
      "363/363 [==============================] - 0s 818us/step - loss: 0.3487 - val_loss: 0.4157\n",
      "Epoch 59/200\n",
      "363/363 [==============================] - 0s 821us/step - loss: 0.3482 - val_loss: 0.4147\n",
      "Epoch 60/200\n",
      "363/363 [==============================] - 0s 827us/step - loss: 0.3476 - val_loss: 0.4136\n",
      "Epoch 61/200\n",
      "363/363 [==============================] - 0s 955us/step - loss: 0.3467 - val_loss: 0.4145\n",
      "Epoch 62/200\n",
      "363/363 [==============================] - 0s 939us/step - loss: 0.3465 - val_loss: 0.4116\n",
      "Epoch 63/200\n",
      "363/363 [==============================] - 0s 776us/step - loss: 0.3454 - val_loss: 0.4159\n",
      "Epoch 64/200\n",
      "363/363 [==============================] - 0s 788us/step - loss: 0.3455 - val_loss: 0.4114\n",
      "Epoch 65/200\n",
      "363/363 [==============================] - 0s 789us/step - loss: 0.3447 - val_loss: 0.4112\n",
      "Epoch 66/200\n",
      "363/363 [==============================] - 0s 791us/step - loss: 0.3440 - val_loss: 0.4139\n",
      "Epoch 67/200\n",
      "363/363 [==============================] - 0s 834us/step - loss: 0.3436 - val_loss: 0.4108\n",
      "Epoch 68/200\n",
      "363/363 [==============================] - 0s 769us/step - loss: 0.3431 - val_loss: 0.4116\n",
      "Epoch 69/200\n",
      "363/363 [==============================] - 0s 825us/step - loss: 0.3426 - val_loss: 0.4110\n",
      "Epoch 70/200\n",
      "363/363 [==============================] - 0s 830us/step - loss: 0.3419 - val_loss: 0.4110\n",
      "Epoch 71/200\n",
      "363/363 [==============================] - 0s 853us/step - loss: 0.3415 - val_loss: 0.4122\n",
      "Epoch 72/200\n",
      "363/363 [==============================] - 0s 808us/step - loss: 0.3409 - val_loss: 0.4112\n",
      "Epoch 73/200\n",
      "363/363 [==============================] - 0s 776us/step - loss: 0.3401 - val_loss: 0.4108\n",
      "Epoch 74/200\n",
      "363/363 [==============================] - 0s 859us/step - loss: 0.3401 - val_loss: 0.4109\n",
      "Epoch 75/200\n",
      "363/363 [==============================] - 0s 845us/step - loss: 0.3393 - val_loss: 0.4146\n",
      "Epoch 76/200\n",
      "363/363 [==============================] - 0s 765us/step - loss: 0.3391 - val_loss: 0.4105\n",
      "Epoch 77/200\n",
      "363/363 [==============================] - 0s 789us/step - loss: 0.3382 - val_loss: 0.4113\n",
      "Epoch 78/200\n",
      "363/363 [==============================] - 0s 839us/step - loss: 0.3381 - val_loss: 0.4114\n",
      "Epoch 79/200\n",
      "363/363 [==============================] - 0s 791us/step - loss: 0.3376 - val_loss: 0.4121\n"
     ]
    },
    {
     "name": "stdout",
     "output_type": "stream",
     "text": [
      "Epoch 80/200\n",
      "363/363 [==============================] - 0s 795us/step - loss: 0.3371 - val_loss: 0.4102\n",
      "Epoch 81/200\n",
      "363/363 [==============================] - 0s 783us/step - loss: 0.3367 - val_loss: 0.4088\n",
      "Epoch 82/200\n",
      "363/363 [==============================] - 0s 845us/step - loss: 0.3362 - val_loss: 0.4093\n",
      "Epoch 83/200\n",
      "363/363 [==============================] - 0s 755us/step - loss: 0.3358 - val_loss: 0.4088\n",
      "Epoch 84/200\n",
      "363/363 [==============================] - 0s 810us/step - loss: 0.3352 - val_loss: 0.4091\n",
      "Epoch 85/200\n",
      "363/363 [==============================] - 0s 803us/step - loss: 0.3348 - val_loss: 0.4113\n",
      "Epoch 86/200\n",
      "363/363 [==============================] - 0s 822us/step - loss: 0.3346 - val_loss: 0.4100\n",
      "Epoch 87/200\n",
      "363/363 [==============================] - 0s 806us/step - loss: 0.3340 - val_loss: 0.4099\n",
      "Epoch 88/200\n",
      "363/363 [==============================] - 0s 794us/step - loss: 0.3332 - val_loss: 0.4087\n",
      "Epoch 89/200\n",
      "363/363 [==============================] - 0s 789us/step - loss: 0.3329 - val_loss: 0.4087\n",
      "Epoch 90/200\n",
      "363/363 [==============================] - 0s 828us/step - loss: 0.3328 - val_loss: 0.4098\n",
      "Epoch 91/200\n",
      "363/363 [==============================] - 0s 807us/step - loss: 0.3323 - val_loss: 0.4113\n",
      "Epoch 92/200\n",
      "363/363 [==============================] - 0s 807us/step - loss: 0.3318 - val_loss: 0.4090\n",
      "Epoch 93/200\n",
      "363/363 [==============================] - 0s 800us/step - loss: 0.3315 - val_loss: 0.4094\n",
      "Epoch 94/200\n",
      "363/363 [==============================] - 0s 789us/step - loss: 0.3311 - val_loss: 0.4086\n",
      "Epoch 95/200\n",
      "363/363 [==============================] - 0s 824us/step - loss: 0.3306 - val_loss: 0.4100\n",
      "Epoch 96/200\n",
      "363/363 [==============================] - 0s 841us/step - loss: 0.3300 - val_loss: 0.4090\n",
      "Epoch 97/200\n",
      "363/363 [==============================] - 0s 843us/step - loss: 0.3300 - val_loss: 0.4085\n",
      "Epoch 98/200\n",
      "363/363 [==============================] - 0s 882us/step - loss: 0.3297 - val_loss: 0.4073\n",
      "Epoch 99/200\n",
      "363/363 [==============================] - 0s 804us/step - loss: 0.3292 - val_loss: 0.4090\n",
      "Epoch 100/200\n",
      "363/363 [==============================] - 0s 773us/step - loss: 0.3286 - val_loss: 0.4083\n",
      "Epoch 101/200\n",
      "363/363 [==============================] - 0s 823us/step - loss: 0.3285 - val_loss: 0.4074\n",
      "Epoch 102/200\n",
      "363/363 [==============================] - 0s 816us/step - loss: 0.3281 - val_loss: 0.4064\n",
      "Epoch 103/200\n",
      "363/363 [==============================] - 0s 805us/step - loss: 0.3277 - val_loss: 0.4089\n",
      "Epoch 104/200\n",
      "363/363 [==============================] - 0s 805us/step - loss: 0.3272 - val_loss: 0.4065\n",
      "Epoch 105/200\n",
      "363/363 [==============================] - 0s 788us/step - loss: 0.3268 - val_loss: 0.4074\n",
      "Epoch 106/200\n",
      "363/363 [==============================] - 0s 825us/step - loss: 0.3264 - val_loss: 0.4092\n",
      "Epoch 107/200\n",
      "363/363 [==============================] - 0s 829us/step - loss: 0.3263 - val_loss: 0.4071\n",
      "Epoch 108/200\n",
      "363/363 [==============================] - 0s 779us/step - loss: 0.3255 - val_loss: 0.4069\n",
      "Epoch 109/200\n",
      "363/363 [==============================] - 0s 782us/step - loss: 0.3253 - val_loss: 0.4048\n",
      "Epoch 110/200\n",
      "363/363 [==============================] - 0s 780us/step - loss: 0.3251 - val_loss: 0.4057\n",
      "Epoch 111/200\n",
      "363/363 [==============================] - 0s 830us/step - loss: 0.3247 - val_loss: 0.4037\n",
      "Epoch 112/200\n",
      "363/363 [==============================] - 0s 770us/step - loss: 0.3244 - val_loss: 0.4049\n",
      "Epoch 113/200\n",
      "363/363 [==============================] - 0s 829us/step - loss: 0.3240 - val_loss: 0.4049\n",
      "Epoch 114/200\n",
      "363/363 [==============================] - 0s 859us/step - loss: 0.3240 - val_loss: 0.4045\n",
      "Epoch 115/200\n",
      "363/363 [==============================] - 0s 762us/step - loss: 0.3232 - val_loss: 0.4049\n",
      "Epoch 116/200\n",
      "363/363 [==============================] - 0s 781us/step - loss: 0.3233 - val_loss: 0.4050\n",
      "Epoch 117/200\n",
      "363/363 [==============================] - 0s 830us/step - loss: 0.3228 - val_loss: 0.4057\n",
      "Epoch 118/200\n",
      "363/363 [==============================] - 0s 817us/step - loss: 0.3226 - val_loss: 0.4056\n",
      "Epoch 119/200\n",
      "363/363 [==============================] - 0s 796us/step - loss: 0.3221 - val_loss: 0.4055\n",
      "Epoch 120/200\n",
      "363/363 [==============================] - 0s 791us/step - loss: 0.3216 - val_loss: 0.4049\n",
      "Epoch 121/200\n",
      "363/363 [==============================] - 0s 874us/step - loss: 0.3214 - val_loss: 0.4035\n",
      "Epoch 122/200\n",
      "363/363 [==============================] - 0s 777us/step - loss: 0.3212 - val_loss: 0.4060\n",
      "Epoch 123/200\n",
      "363/363 [==============================] - 0s 874us/step - loss: 0.3210 - val_loss: 0.4020\n",
      "Epoch 124/200\n",
      "363/363 [==============================] - 0s 834us/step - loss: 0.3208 - val_loss: 0.4043\n",
      "Epoch 125/200\n",
      "363/363 [==============================] - 0s 816us/step - loss: 0.3205 - val_loss: 0.4033\n",
      "Epoch 126/200\n",
      "363/363 [==============================] - 0s 837us/step - loss: 0.3201 - val_loss: 0.4031\n",
      "Epoch 127/200\n",
      "363/363 [==============================] - 0s 807us/step - loss: 0.3196 - val_loss: 0.4024\n",
      "Epoch 128/200\n",
      "363/363 [==============================] - 0s 802us/step - loss: 0.3196 - val_loss: 0.4040\n",
      "Epoch 129/200\n",
      "363/363 [==============================] - 0s 773us/step - loss: 0.3192 - val_loss: 0.4029\n",
      "Epoch 130/200\n",
      "363/363 [==============================] - 0s 851us/step - loss: 0.3189 - val_loss: 0.4039\n",
      "Epoch 131/200\n",
      "363/363 [==============================] - 0s 827us/step - loss: 0.3185 - val_loss: 0.4018\n",
      "Epoch 132/200\n",
      "363/363 [==============================] - 0s 814us/step - loss: 0.3183 - val_loss: 0.4033\n",
      "Epoch 133/200\n",
      "363/363 [==============================] - 0s 819us/step - loss: 0.3180 - val_loss: 0.4018\n",
      "Epoch 134/200\n",
      "363/363 [==============================] - 0s 805us/step - loss: 0.3178 - val_loss: 0.4011\n",
      "Epoch 135/200\n",
      "363/363 [==============================] - 0s 784us/step - loss: 0.3177 - val_loss: 0.4020\n",
      "Epoch 136/200\n",
      "363/363 [==============================] - 0s 839us/step - loss: 0.3173 - val_loss: 0.4007\n",
      "Epoch 137/200\n",
      "363/363 [==============================] - 0s 868us/step - loss: 0.3169 - val_loss: 0.4006\n",
      "Epoch 138/200\n",
      "363/363 [==============================] - 0s 815us/step - loss: 0.3166 - val_loss: 0.4020\n",
      "Epoch 139/200\n",
      "363/363 [==============================] - 0s 754us/step - loss: 0.3166 - val_loss: 0.4003\n",
      "Epoch 140/200\n",
      "363/363 [==============================] - 0s 823us/step - loss: 0.3162 - val_loss: 0.4010\n",
      "Epoch 141/200\n",
      "363/363 [==============================] - 0s 825us/step - loss: 0.3161 - val_loss: 0.4002\n",
      "Epoch 142/200\n",
      "363/363 [==============================] - 0s 764us/step - loss: 0.3158 - val_loss: 0.4001\n",
      "Epoch 143/200\n",
      "363/363 [==============================] - 0s 788us/step - loss: 0.3154 - val_loss: 0.4026\n",
      "Epoch 144/200\n",
      "363/363 [==============================] - 0s 814us/step - loss: 0.3153 - val_loss: 0.4022\n",
      "Epoch 145/200\n",
      "363/363 [==============================] - 0s 872us/step - loss: 0.3149 - val_loss: 0.3989\n",
      "Epoch 146/200\n",
      "363/363 [==============================] - 0s 800us/step - loss: 0.3147 - val_loss: 0.4014\n",
      "Epoch 147/200\n",
      "363/363 [==============================] - 0s 778us/step - loss: 0.3144 - val_loss: 0.4003\n",
      "Epoch 148/200\n",
      "363/363 [==============================] - 0s 839us/step - loss: 0.3143 - val_loss: 0.4016\n",
      "Epoch 149/200\n",
      "363/363 [==============================] - 0s 778us/step - loss: 0.3137 - val_loss: 0.3996\n",
      "Epoch 150/200\n",
      "363/363 [==============================] - 0s 812us/step - loss: 0.3139 - val_loss: 0.4008\n",
      "Epoch 151/200\n",
      "363/363 [==============================] - 0s 815us/step - loss: 0.3133 - val_loss: 0.4011\n",
      "Epoch 152/200\n",
      "363/363 [==============================] - 0s 801us/step - loss: 0.3133 - val_loss: 0.4011\n",
      "Epoch 153/200\n",
      "363/363 [==============================] - 0s 850us/step - loss: 0.3130 - val_loss: 0.4006\n",
      "Epoch 154/200\n",
      "363/363 [==============================] - 0s 795us/step - loss: 0.3125 - val_loss: 0.4010\n",
      "Epoch 155/200\n",
      "363/363 [==============================] - 0s 827us/step - loss: 0.3123 - val_loss: 0.4009\n"
     ]
    }
   ],
   "source": [
    "model_history=model.fit(X_train, y_train, epochs=200, \n",
    "                        validation_data=(X_valid,y_valid),\n",
    "                       callbacks=[checkpoint_cb,early_stopping_cb])"
   ]
  },
  {
   "cell_type": "code",
   "execution_count": 60,
   "metadata": {},
   "outputs": [],
   "source": [
    "model=keras.models.load_model('Early_Stopp_Model.h5')"
   ]
  },
  {
   "cell_type": "code",
   "execution_count": 61,
   "metadata": {},
   "outputs": [
    {
     "name": "stdout",
     "output_type": "stream",
     "text": [
      "162/162 [==============================] - 0s 578us/step - loss: 0.3824\n"
     ]
    }
   ],
   "source": [
    "mse_tes=model.evaluate(X_test,y_test)"
   ]
  }
 ],
 "metadata": {
  "kernelspec": {
   "display_name": "Python 3",
   "language": "python",
   "name": "python3"
  },
  "language_info": {
   "codemirror_mode": {
    "name": "ipython",
    "version": 3
   },
   "file_extension": ".py",
   "mimetype": "text/x-python",
   "name": "python",
   "nbconvert_exporter": "python",
   "pygments_lexer": "ipython3",
   "version": "3.8.5"
  }
 },
 "nbformat": 4,
 "nbformat_minor": 4
}
