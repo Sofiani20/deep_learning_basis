{
 "cells": [
  {
   "cell_type": "markdown",
   "metadata": {},
   "source": [
    "A convolutional neural network is a special kind of feedforward neural network with fewer weights than a fully-connected network. In a fully-connected feedforward neural network, every node in the input is tied to every node in the first layer, and so on.\n",
    "\n",
    "### CNN\n",
    "mostly use for image recognation and speech recognation\n",
    "\n",
    "Au lieu de regarder chaque pixel individuellement on regarde un groupe de pixel\n",
    "## Stride\n",
    "Denotes how many steps we are moving in each steps in convolution by default One\n",
    "\n",
    "## Padding (Valid padding by default, Same padding)\n",
    "Is a process of adding zeros to the input matrix symmetrically to maintain the dim of output as in input\n",
    "\n",
    "## Filter\n",
    "matrice de même dim que la fenêtre de pixel ou noyau convolutionnel qui permet de synthétiser les informations du window en une seule valeur qui sera input du convolutional layer suivant. le résultat obtenu est \n",
    "## feature map\n",
    "ce qui se fait est qu'on applique plusieurs filtre sur les images d'entrée. Ce qui donnera un feature map pour chaque filtre. les features maps supperposé formet the convolutional layer 1\n",
    "\n",
    "le 2e convolutional layer utilisera le précédent layer pour tirer des features maps plus intéréssant\n",
    "\n",
    "## channel\n",
    "\n",
    "on sait que une image noir sur blanc est une matrice de pixel. Où chaque pixel = une valeur entre 0 et 255 indiquant le dégré de blancheur. 255 totalement blanc, 0 totalement Noir.\n",
    "\n",
    "Mais une image avec couleur, chaque pixel est est couple (red, bleu, green) dans une certaine proportion ce sont les couleurs primaires. a * red+ b* bleu+ c * green donnera une couleur. \n",
    "\n",
    "si on a donc une image colorée en entrée on peut la voir comme supper position de 3 input layer Red layer, blue layer et green layer\n",
    "\n",
    "## Polling layer\n",
    "Pooling layer goal is to subsample (ie shrink) the input image in order to reduce the computational load, the memory usage and the nmber of parameters (there by limiting the risk of overfitting\n",
    "\n",
    "on utilise une fonction d'aggregation (max, mean,..)"
   ]
  },
  {
   "cell_type": "markdown",
   "metadata": {},
   "source": []
  },
  {
   "cell_type": "code",
   "execution_count": null,
   "metadata": {},
   "outputs": [],
   "source": []
  },
  {
   "cell_type": "code",
   "execution_count": null,
   "metadata": {},
   "outputs": [],
   "source": []
  },
  {
   "cell_type": "code",
   "execution_count": null,
   "metadata": {},
   "outputs": [],
   "source": []
  },
  {
   "cell_type": "code",
   "execution_count": null,
   "metadata": {},
   "outputs": [],
   "source": []
  },
  {
   "cell_type": "code",
   "execution_count": null,
   "metadata": {},
   "outputs": [],
   "source": []
  },
  {
   "cell_type": "markdown",
   "metadata": {},
   "source": []
  }
 ],
 "metadata": {
  "kernelspec": {
   "display_name": "Python 3",
   "language": "python",
   "name": "python3"
  },
  "language_info": {
   "codemirror_mode": {
    "name": "ipython",
    "version": 3
   },
   "file_extension": ".py",
   "mimetype": "text/x-python",
   "name": "python",
   "nbconvert_exporter": "python",
   "pygments_lexer": "ipython3",
   "version": "3.8.5"
  }
 },
 "nbformat": 4,
 "nbformat_minor": 4
}
